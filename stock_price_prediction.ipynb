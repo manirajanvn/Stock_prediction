{
  "nbformat": 4,
  "nbformat_minor": 0,
  "metadata": {
    "colab": {
      "name": "stock_price_prediction.ipynb",
      "version": "0.3.2",
      "provenance": [],
      "include_colab_link": true
    },
    "kernelspec": {
      "name": "python3",
      "display_name": "Python 3"
    }
  },
  "cells": [
    {
      "cell_type": "markdown",
      "metadata": {
        "id": "view-in-github",
        "colab_type": "text"
      },
      "source": [
        "<a href=\"https://colab.research.google.com/github/manirajanvn/Stock_prediction/blob/master/stock_price_prediction.ipynb\" target=\"_parent\"><img src=\"https://colab.research.google.com/assets/colab-badge.svg\" alt=\"Open In Colab\"/></a>"
      ]
    },
    {
      "cell_type": "code",
      "metadata": {
        "id": "141sN7xQybMd",
        "colab_type": "code",
        "colab": {
          "base_uri": "https://localhost:8080/",
          "height": 377
        },
        "outputId": "bdc0d07c-84d8-40c0-acf3-e426dd6760d0"
      },
      "source": [
        "!pip install yfinance"
      ],
      "execution_count": 5,
      "outputs": [
        {
          "output_type": "stream",
          "text": [
            "Collecting yfinance\n",
            "  Downloading https://files.pythonhosted.org/packages/53/0e/40387099824c98be22cd7e33a620e9d38b61998b031f0b33f0b9959717d2/yfinance-0.1.45.tar.gz\n",
            "Requirement already satisfied: pandas>=0.24 in /usr/local/lib/python3.6/dist-packages (from yfinance) (0.24.2)\n",
            "Requirement already satisfied: numpy>=1.15 in /usr/local/lib/python3.6/dist-packages (from yfinance) (1.16.5)\n",
            "Requirement already satisfied: requests>=2.20 in /usr/local/lib/python3.6/dist-packages (from yfinance) (2.21.0)\n",
            "Requirement already satisfied: multitasking>=0.0.7 in /usr/local/lib/python3.6/dist-packages (from yfinance) (0.0.9)\n",
            "Requirement already satisfied: python-dateutil>=2.5.0 in /usr/local/lib/python3.6/dist-packages (from pandas>=0.24->yfinance) (2.5.3)\n",
            "Requirement already satisfied: pytz>=2011k in /usr/local/lib/python3.6/dist-packages (from pandas>=0.24->yfinance) (2018.9)\n",
            "Requirement already satisfied: urllib3<1.25,>=1.21.1 in /usr/local/lib/python3.6/dist-packages (from requests>=2.20->yfinance) (1.24.3)\n",
            "Requirement already satisfied: idna<2.9,>=2.5 in /usr/local/lib/python3.6/dist-packages (from requests>=2.20->yfinance) (2.8)\n",
            "Requirement already satisfied: chardet<3.1.0,>=3.0.2 in /usr/local/lib/python3.6/dist-packages (from requests>=2.20->yfinance) (3.0.4)\n",
            "Requirement already satisfied: certifi>=2017.4.17 in /usr/local/lib/python3.6/dist-packages (from requests>=2.20->yfinance) (2019.6.16)\n",
            "Requirement already satisfied: six>=1.5 in /usr/local/lib/python3.6/dist-packages (from python-dateutil>=2.5.0->pandas>=0.24->yfinance) (1.12.0)\n",
            "Building wheels for collected packages: yfinance\n",
            "  Building wheel for yfinance (setup.py) ... \u001b[?25l\u001b[?25hdone\n",
            "  Created wheel for yfinance: filename=yfinance-0.1.45-cp36-none-any.whl size=14652 sha256=84973abd3b30a11720d0c9f28b1a6c573478f28267a33b06137f2729f667316d\n",
            "  Stored in directory: /root/.cache/pip/wheels/0c/d1/df/aa9a7744a4ac353cc9a1f2c3aaea7c1f457fc49de4286f2d88\n",
            "Successfully built yfinance\n",
            "Installing collected packages: yfinance\n",
            "Successfully installed yfinance-0.1.45\n"
          ],
          "name": "stdout"
        }
      ]
    },
    {
      "cell_type": "code",
      "metadata": {
        "id": "XjbHIbGRUE1t",
        "colab_type": "code",
        "colab": {}
      },
      "source": [
        "import numpy as np\n",
        "import pandas as pd\n",
        "import matplotlib.pyplot as plt\n",
        "from pandas_datareader import data as pdr\n",
        "import yfinance as yf\n",
        "%matplotlib inline\n",
        "from matplotlib import style\n",
        "import math\n",
        "from sklearn import preprocessing\n",
        "import matplotlib as mpl\n",
        "import datetime\n"
      ],
      "execution_count": 0,
      "outputs": []
    },
    {
      "cell_type": "code",
      "metadata": {
        "id": "rQF99qfWyhgn",
        "colab_type": "code",
        "colab": {
          "base_uri": "https://localhost:8080/",
          "height": 221
        },
        "outputId": "a0dfdaba-0a0b-4de3-c7ac-66dbc1da6c9a"
      },
      "source": [
        "yf.pdr_override()\n",
        "df_full = pdr.get_data_yahoo(\"PAH3.DE\", start=\"2009-01-01\").reset_index()\n",
        "df_full.tail()"
      ],
      "execution_count": 11,
      "outputs": [
        {
          "output_type": "stream",
          "text": [
            "\r[*********************100%***********************]  1 of 1 downloaded\n"
          ],
          "name": "stdout"
        },
        {
          "output_type": "execute_result",
          "data": {
            "text/html": [
              "<div>\n",
              "<style scoped>\n",
              "    .dataframe tbody tr th:only-of-type {\n",
              "        vertical-align: middle;\n",
              "    }\n",
              "\n",
              "    .dataframe tbody tr th {\n",
              "        vertical-align: top;\n",
              "    }\n",
              "\n",
              "    .dataframe thead th {\n",
              "        text-align: right;\n",
              "    }\n",
              "</style>\n",
              "<table border=\"1\" class=\"dataframe\">\n",
              "  <thead>\n",
              "    <tr style=\"text-align: right;\">\n",
              "      <th></th>\n",
              "      <th>Date</th>\n",
              "      <th>Open</th>\n",
              "      <th>High</th>\n",
              "      <th>Low</th>\n",
              "      <th>Close</th>\n",
              "      <th>Adj Close</th>\n",
              "      <th>Volume</th>\n",
              "    </tr>\n",
              "  </thead>\n",
              "  <tbody>\n",
              "    <tr>\n",
              "      <th>2693</th>\n",
              "      <td>2019-09-09</td>\n",
              "      <td>60.00</td>\n",
              "      <td>61.04</td>\n",
              "      <td>59.84</td>\n",
              "      <td>60.66</td>\n",
              "      <td>60.66</td>\n",
              "      <td>411766</td>\n",
              "    </tr>\n",
              "    <tr>\n",
              "      <th>2694</th>\n",
              "      <td>2019-09-10</td>\n",
              "      <td>60.76</td>\n",
              "      <td>61.24</td>\n",
              "      <td>60.34</td>\n",
              "      <td>60.54</td>\n",
              "      <td>60.54</td>\n",
              "      <td>555287</td>\n",
              "    </tr>\n",
              "    <tr>\n",
              "      <th>2695</th>\n",
              "      <td>2019-09-11</td>\n",
              "      <td>61.24</td>\n",
              "      <td>61.84</td>\n",
              "      <td>60.20</td>\n",
              "      <td>60.32</td>\n",
              "      <td>60.32</td>\n",
              "      <td>467486</td>\n",
              "    </tr>\n",
              "    <tr>\n",
              "      <th>2696</th>\n",
              "      <td>2019-09-12</td>\n",
              "      <td>60.30</td>\n",
              "      <td>61.18</td>\n",
              "      <td>59.84</td>\n",
              "      <td>60.40</td>\n",
              "      <td>60.40</td>\n",
              "      <td>492377</td>\n",
              "    </tr>\n",
              "    <tr>\n",
              "      <th>2697</th>\n",
              "      <td>2019-09-13</td>\n",
              "      <td>60.60</td>\n",
              "      <td>61.84</td>\n",
              "      <td>60.60</td>\n",
              "      <td>61.84</td>\n",
              "      <td>61.84</td>\n",
              "      <td>470090</td>\n",
              "    </tr>\n",
              "  </tbody>\n",
              "</table>\n",
              "</div>"
            ],
            "text/plain": [
              "           Date   Open   High    Low  Close  Adj Close  Volume\n",
              "2693 2019-09-09  60.00  61.04  59.84  60.66      60.66  411766\n",
              "2694 2019-09-10  60.76  61.24  60.34  60.54      60.54  555287\n",
              "2695 2019-09-11  61.24  61.84  60.20  60.32      60.32  467486\n",
              "2696 2019-09-12  60.30  61.18  59.84  60.40      60.40  492377\n",
              "2697 2019-09-13  60.60  61.84  60.60  61.84      61.84  470090"
            ]
          },
          "metadata": {
            "tags": []
          },
          "execution_count": 11
        }
      ]
    },
    {
      "cell_type": "code",
      "metadata": {
        "id": "SIdQdLBR8uRp",
        "colab_type": "code",
        "colab": {
          "base_uri": "https://localhost:8080/",
          "height": 449
        },
        "outputId": "6b80dfe1-8374-4fcd-838c-a1dd4596675d"
      },
      "source": [
        "adj_close_px= df_full['Adj Close']\n",
        "close_px = df_full['Close']\n",
        "mpl.rc('figure',figsize=(8,7))\n",
        "mpl.__version__\n",
        "\n",
        "style.use('ggplot')\n",
        "close_px.plot(label='Close')\n",
        "adj_close_px.plot(label='Adj Close')\n",
        "plt.legend()"
      ],
      "execution_count": 14,
      "outputs": [
        {
          "output_type": "execute_result",
          "data": {
            "text/plain": [
              "<matplotlib.legend.Legend at 0x7f442e8e3b00>"
            ]
          },
          "metadata": {
            "tags": []
          },
          "execution_count": 14
        },
        {
          "output_type": "display_data",
          "data": {
            "image/png": "[encoded data removed]",
            "text/plain": [
              "<Figure size 576x504 with 1 Axes>"
            ]
          },
          "metadata": {
            "tags": []
          }
        }
      ]
    },
    {
      "cell_type": "code",
      "metadata": {
        "id": "FM-lTHjq-2I5",
        "colab_type": "code",
        "colab": {
          "base_uri": "https://localhost:8080/",
          "height": 204
        },
        "outputId": "f30558c7-52c9-44d6-d68c-2b5024bf1988"
      },
      "source": [
        "df = df_full.loc[:,['Close','Volume','Low','High','Open']]\n",
        "df.head()"
      ],
      "execution_count": 20,
      "outputs": [
        {
          "output_type": "execute_result",
          "data": {
            "text/html": [
              "<div>\n",
              "<style scoped>\n",
              "    .dataframe tbody tr th:only-of-type {\n",
              "        vertical-align: middle;\n",
              "    }\n",
              "\n",
              "    .dataframe tbody tr th {\n",
              "        vertical-align: top;\n",
              "    }\n",
              "\n",
              "    .dataframe thead th {\n",
              "        text-align: right;\n",
              "    }\n",
              "</style>\n",
              "<table border=\"1\" class=\"dataframe\">\n",
              "  <thead>\n",
              "    <tr style=\"text-align: right;\">\n",
              "      <th></th>\n",
              "      <th>Close</th>\n",
              "      <th>Volume</th>\n",
              "      <th>Low</th>\n",
              "      <th>High</th>\n",
              "      <th>Open</th>\n",
              "    </tr>\n",
              "  </thead>\n",
              "  <tbody>\n",
              "    <tr>\n",
              "      <th>0</th>\n",
              "      <td>39.94</td>\n",
              "      <td>901567</td>\n",
              "      <td>37.83</td>\n",
              "      <td>40.42</td>\n",
              "      <td>38.30</td>\n",
              "    </tr>\n",
              "    <tr>\n",
              "      <th>1</th>\n",
              "      <td>38.41</td>\n",
              "      <td>629475</td>\n",
              "      <td>37.91</td>\n",
              "      <td>40.00</td>\n",
              "      <td>39.89</td>\n",
              "    </tr>\n",
              "    <tr>\n",
              "      <th>2</th>\n",
              "      <td>39.32</td>\n",
              "      <td>1467863</td>\n",
              "      <td>37.95</td>\n",
              "      <td>40.95</td>\n",
              "      <td>38.06</td>\n",
              "    </tr>\n",
              "    <tr>\n",
              "      <th>3</th>\n",
              "      <td>36.11</td>\n",
              "      <td>1350452</td>\n",
              "      <td>35.65</td>\n",
              "      <td>37.42</td>\n",
              "      <td>37.01</td>\n",
              "    </tr>\n",
              "    <tr>\n",
              "      <th>4</th>\n",
              "      <td>35.95</td>\n",
              "      <td>1183009</td>\n",
              "      <td>35.10</td>\n",
              "      <td>36.49</td>\n",
              "      <td>36.25</td>\n",
              "    </tr>\n",
              "  </tbody>\n",
              "</table>\n",
              "</div>"
            ],
            "text/plain": [
              "   Close   Volume    Low   High   Open\n",
              "0  39.94   901567  37.83  40.42  38.30\n",
              "1  38.41   629475  37.91  40.00  39.89\n",
              "2  39.32  1467863  37.95  40.95  38.06\n",
              "3  36.11  1350452  35.65  37.42  37.01\n",
              "4  35.95  1183009  35.10  36.49  36.25"
            ]
          },
          "metadata": {
            "tags": []
          },
          "execution_count": 20
        }
      ]
    },
    {
      "cell_type": "code",
      "metadata": {
        "id": "TZXRZ8Ah_KcW",
        "colab_type": "code",
        "colab": {
          "base_uri": "https://localhost:8080/",
          "height": 49
        },
        "outputId": "79b7aff4-4a42-4296-85ef-18b971ae293d"
      },
      "source": [
        "df[df.isnull().any(axis=1)]"
      ],
      "execution_count": 21,
      "outputs": [
        {
          "output_type": "execute_result",
          "data": {
            "text/html": [
              "<div>\n",
              "<style scoped>\n",
              "    .dataframe tbody tr th:only-of-type {\n",
              "        vertical-align: middle;\n",
              "    }\n",
              "\n",
              "    .dataframe tbody tr th {\n",
              "        vertical-align: top;\n",
              "    }\n",
              "\n",
              "    .dataframe thead th {\n",
              "        text-align: right;\n",
              "    }\n",
              "</style>\n",
              "<table border=\"1\" class=\"dataframe\">\n",
              "  <thead>\n",
              "    <tr style=\"text-align: right;\">\n",
              "      <th></th>\n",
              "      <th>Close</th>\n",
              "      <th>Volume</th>\n",
              "      <th>Low</th>\n",
              "      <th>High</th>\n",
              "      <th>Open</th>\n",
              "    </tr>\n",
              "  </thead>\n",
              "  <tbody>\n",
              "  </tbody>\n",
              "</table>\n",
              "</div>"
            ],
            "text/plain": [
              "Empty DataFrame\n",
              "Columns: [Close, Volume, Low, High, Open]\n",
              "Index: []"
            ]
          },
          "metadata": {
            "tags": []
          },
          "execution_count": 21
        }
      ]
    },
    {
      "cell_type": "code",
      "metadata": {
        "id": "iMCoRT0SAvbL",
        "colab_type": "code",
        "colab": {}
      },
      "source": [
        "forcast_col = 'Close'\n",
        "df['label'] = df[forcast_col].shift(-1)\n",
        "df= df.drop(df[df.isnull().any(axis=1)].index)\n",
        "X= np.array(df.drop(['label'],1))"
      ],
      "execution_count": 0,
      "outputs": []
    },
    {
      "cell_type": "code",
      "metadata": {
        "id": "S8eDsVHPDEPK",
        "colab_type": "code",
        "colab": {}
      },
      "source": [
        "forecast_out = int(math.ceil(0.1 * len(df)))\n"
      ],
      "execution_count": 0,
      "outputs": []
    },
    {
      "cell_type": "code",
      "metadata": {
        "id": "rO-0PuTrDrfi",
        "colab_type": "code",
        "colab": {}
      },
      "source": [
        "X = preprocessing.scale(X)"
      ],
      "execution_count": 0,
      "outputs": []
    },
    {
      "cell_type": "code",
      "metadata": {
        "id": "wQc4H-GJEStj",
        "colab_type": "code",
        "colab": {}
      },
      "source": [
        "X_test = X[-forecast_out:]\n",
        "X_train = X[:-forecast_out]"
      ],
      "execution_count": 0,
      "outputs": []
    },
    {
      "cell_type": "code",
      "metadata": {
        "id": "yaU5x7-SEcLT",
        "colab_type": "code",
        "colab": {}
      },
      "source": [
        "y = np.array(df['label'])\n",
        "y_train = y[:-forecast_out]\n",
        "y_test = y[-forecast_out:]"
      ],
      "execution_count": 0,
      "outputs": []
    },
    {
      "cell_type": "code",
      "metadata": {
        "id": "UI7Zls6fEet0",
        "colab_type": "code",
        "colab": {}
      },
      "source": [
        "from sklearn.linear_model import LinearRegression\n",
        "from sklearn.neighbors import KNeighborsRegressor\n",
        "from sklearn.linear_model import Ridge, Lasso\n",
        "from sklearn.preprocessing import PolynomialFeatures\n",
        "from sklearn.pipeline import make_pipeline"
      ],
      "execution_count": 0,
      "outputs": []
    },
    {
      "cell_type": "code",
      "metadata": {
        "id": "YVbo5IyzHVnt",
        "colab_type": "code",
        "colab": {
          "base_uri": "https://localhost:8080/",
          "height": 54
        },
        "outputId": "fa07fa88-50c9-4683-a3be-5006c715bd0c"
      },
      "source": [
        "clfreg = LinearRegression(n_jobs=-1)\n",
        "clfreg.fit(X_train, y_train)"
      ],
      "execution_count": 40,
      "outputs": [
        {
          "output_type": "execute_result",
          "data": {
            "text/plain": [
              "LinearRegression(copy_X=True, fit_intercept=True, n_jobs=-1, normalize=False)"
            ]
          },
          "metadata": {
            "tags": []
          },
          "execution_count": 40
        }
      ]
    },
    {
      "cell_type": "code",
      "metadata": {
        "id": "DKyadDGBJEnp",
        "colab_type": "code",
        "colab": {
          "base_uri": "https://localhost:8080/",
          "height": 170
        },
        "outputId": "064323ee-c743-4531-d2c6-452e1b962961"
      },
      "source": [
        "clfpoly2 = make_pipeline(PolynomialFeatures(2), Ridge())\n",
        "clfpoly2.fit(X_train, y_train)"
      ],
      "execution_count": 41,
      "outputs": [
        {
          "output_type": "execute_result",
          "data": {
            "text/plain": [
              "Pipeline(memory=None,\n",
              "         steps=[('polynomialfeatures',\n",
              "                 PolynomialFeatures(degree=2, include_bias=True,\n",
              "                                    interaction_only=False, order='C')),\n",
              "                ('ridge',\n",
              "                 Ridge(alpha=1.0, copy_X=True, fit_intercept=True,\n",
              "                       max_iter=None, normalize=False, random_state=None,\n",
              "                       solver='auto', tol=0.001))],\n",
              "         verbose=False)"
            ]
          },
          "metadata": {
            "tags": []
          },
          "execution_count": 41
        }
      ]
    },
    {
      "cell_type": "code",
      "metadata": {
        "id": "qLkPHdR5JHMt",
        "colab_type": "code",
        "colab": {
          "base_uri": "https://localhost:8080/",
          "height": 170
        },
        "outputId": "0937aa33-b254-4b1c-80ec-01996da01c33"
      },
      "source": [
        "clfpoly3 = make_pipeline(PolynomialFeatures(3), Ridge())\n",
        "clfpoly3.fit(X_train, y_train)"
      ],
      "execution_count": 42,
      "outputs": [
        {
          "output_type": "execute_result",
          "data": {
            "text/plain": [
              "Pipeline(memory=None,\n",
              "         steps=[('polynomialfeatures',\n",
              "                 PolynomialFeatures(degree=3, include_bias=True,\n",
              "                                    interaction_only=False, order='C')),\n",
              "                ('ridge',\n",
              "                 Ridge(alpha=1.0, copy_X=True, fit_intercept=True,\n",
              "                       max_iter=None, normalize=False, random_state=None,\n",
              "                       solver='auto', tol=0.001))],\n",
              "         verbose=False)"
            ]
          },
          "metadata": {
            "tags": []
          },
          "execution_count": 42
        }
      ]
    },
    {
      "cell_type": "code",
      "metadata": {
        "id": "oc7jzvbAJJDZ",
        "colab_type": "code",
        "colab": {
          "base_uri": "https://localhost:8080/",
          "height": 68
        },
        "outputId": "590ac9b4-be0e-4dc3-b31f-88224f5507e6"
      },
      "source": [
        "clfknn = KNeighborsRegressor(n_neighbors=2)\n",
        "clfknn.fit(X_train, y_train)"
      ],
      "execution_count": 43,
      "outputs": [
        {
          "output_type": "execute_result",
          "data": {
            "text/plain": [
              "KNeighborsRegressor(algorithm='auto', leaf_size=30, metric='minkowski',\n",
              "                    metric_params=None, n_jobs=None, n_neighbors=2, p=2,\n",
              "                    weights='uniform')"
            ]
          },
          "metadata": {
            "tags": []
          },
          "execution_count": 43
        }
      ]
    },
    {
      "cell_type": "code",
      "metadata": {
        "id": "QFI4pJL9JzWc",
        "colab_type": "code",
        "colab": {
          "base_uri": "https://localhost:8080/",
          "height": 85
        },
        "outputId": "a6384f97-cb8f-49cb-8a4a-35263518b60b"
      },
      "source": [
        "confidencereg = clfreg.score(X_test, y_test)\n",
        "confidencepoly2 = clfpoly2.score(X_test,y_test)\n",
        "confidencepoly3 = clfpoly3.score(X_test,y_test)\n",
        "confidenceknn = clfknn.score(X_test, y_test)\n",
        "\n",
        "print('The linear regression confidence is ', confidencereg)\n",
        "print('The quadratic regression 2 confidence is ', confidencepoly2)\n",
        "print('The quadratic regression 3 confidence is ', confidencepoly3)\n",
        "print('The knn regression confidence is ', confidenceknn)"
      ],
      "execution_count": 44,
      "outputs": [
        {
          "output_type": "stream",
          "text": [
            "The linear regression confidence is  0.8643274492138393\n",
            "The quadratic regression 2 confidence is  0.8636967133545332\n",
            "The quadratic regression 3 confidence is  0.8613027166253672\n",
            "The knn regression confidence is  0.7584507916941008\n"
          ],
          "name": "stdout"
        }
      ]
    },
    {
      "cell_type": "code",
      "metadata": {
        "id": "a00HLLUmKCOW",
        "colab_type": "code",
        "colab": {}
      },
      "source": [
        "forecast_set = clfreg.predict(X_test)\n",
        "df['Forecast'] = np.nan\n",
        "index = len(df)- forecast_out\n",
        "for i in forecast_set:\n",
        "    df['Forecast'].at[index] = i\n",
        "    index += 1"
      ],
      "execution_count": 0,
      "outputs": []
    },
    {
      "cell_type": "code",
      "metadata": {
        "id": "AuYAn8d6MVvE",
        "colab_type": "code",
        "colab": {
          "base_uri": "https://localhost:8080/",
          "height": 449
        },
        "outputId": "7f335a9a-3f3b-4573-95b1-3115b16cac7f"
      },
      "source": [
        "df['label'].tail(50).plot()\n",
        "df['Forecast'].tail(50).plot()\n",
        "plt.legend()\n",
        "plt.xlabel('Date')\n",
        "plt.ylabel('Price')\n",
        "plt.show()"
      ],
      "execution_count": 55,
      "outputs": [
        {
          "output_type": "display_data",
          "data": {
            "image/png": "[encoded data removed]",
            "text/plain": [
              "<Figure size 576x504 with 1 Axes>"
            ]
          },
          "metadata": {
            "tags": []
          }
        }
      ]
    }
  ]
}